{
 "cells": [
  {
   "cell_type": "code",
   "execution_count": 5,
   "metadata": {},
   "outputs": [],
   "source": [
    "import requests\n",
    "import pandas as pd\n",
    "from scrapy import Selector\n",
    "from urllib.parse import urljoin\n",
    "import time\n",
    "from datetime import datetime"
   ]
  },
  {
   "cell_type": "code",
   "execution_count": 3,
   "metadata": {},
   "outputs": [],
   "source": [
    "ts = time.time()"
   ]
  },
  {
   "cell_type": "code",
   "execution_count": 6,
   "metadata": {},
   "outputs": [
    {
     "data": {
      "text/plain": [
       "datetime.datetime(2022, 4, 13, 17, 58, 24, 529199)"
      ]
     },
     "execution_count": 6,
     "metadata": {},
     "output_type": "execute_result"
    }
   ],
   "source": [
    "datetime.fromtimestamp(ts)"
   ]
  },
  {
   "cell_type": "code",
   "execution_count": 7,
   "metadata": {},
   "outputs": [
    {
     "data": {
      "text/plain": [
       "'2022-04-13'"
      ]
     },
     "execution_count": 7,
     "metadata": {},
     "output_type": "execute_result"
    }
   ],
   "source": [
    "time.strftime(\"%Y-%m-%d\", time.localtime(ts))"
   ]
  },
  {
   "cell_type": "code",
   "execution_count": 2,
   "metadata": {},
   "outputs": [],
   "source": [
    "headers = {\n",
    "    'user-agent':'Mozilla/5.0 (Windows NT 10.0; Win64; x64) AppleWebKit/537.36 (KHTML, like Gecko) Chrome/86.0.4240.75 Safari/537.36 Edg/86.0.622.38'\n",
    "}"
   ]
  },
  {
   "cell_type": "code",
   "execution_count": 3,
   "metadata": {},
   "outputs": [],
   "source": [
    "toutiao_url = 'https://tophub.today/n/x9ozB4KoXb'"
   ]
  },
  {
   "cell_type": "code",
   "execution_count": 5,
   "metadata": {},
   "outputs": [],
   "source": [
    "r = requests.get(toutiao_url,headers=headers)"
   ]
  },
  {
   "cell_type": "code",
   "execution_count": 12,
   "metadata": {},
   "outputs": [],
   "source": [
    "selector = Selector(text=r.text)"
   ]
  },
  {
   "cell_type": "code",
   "execution_count": 17,
   "metadata": {},
   "outputs": [
    {
     "data": {
      "text/plain": [
       "'https://tophub.today/l?e=3734MHSgEfaKOzWOm4iOMY3cGLeZZrX0QKrGsWiH%2FKIB76VG9eXiuOMe7x72Nnb1E%2BRVG7NPX%2B9bU6HkyDWWnRpP1V03AZ8%2Fjsq7P%2BsUkpNWLAdPeQwqnmwDfOvjUBVvvWoPk8aIE3sebR5O%2FKzNxqmSUI4qpaBqLC0BBaWeNMs1d%2BzMYrlEIRQvq0ikeBxGhroVAKQf51nzPGqbsBCDuhbmnpsmZJKPcL3H49iz9rcgCMwNB%2FBl3oHg8ab3fYS8MBp8c6JaiB05ZAjGLy08%2BH%2B%2B5o7oe8xUQ1oWRHBh30PMHeHU2XRQ6gBt0QVt4yKl0GKsgL4EehIWFKYPkd9sPYY48cP0jO3PEOZcq3moMMMS40HIv6Zek2T4%2FFORAQWJC5LuPy9xcAskCaY34X7YZTo%2BYex9eso2V3DCO7U69Drpt95xxVH5nDluXPOT5OhOTMe6jDII1fD6yZcO%2BcMwbrX4CGvM%2FLXSLwI'"
      ]
     },
     "execution_count": 17,
     "metadata": {},
     "output_type": "execute_result"
    }
   ],
   "source": [
    "res = urljoin(toutiao_url, selector.xpath(\".//table//td[@class='al']/a/@href\").extract_first())\n",
    "res"
   ]
  },
  {
   "cell_type": "code",
   "execution_count": null,
   "metadata": {},
   "outputs": [],
   "source": [
    "def parse_raw_url(first_url):\n",
    "    r = requests.get(toutiao_url,headers=headers)\n",
    "    selector = Selector(text=r.text)\n",
    "    res = urljoin(toutiao_url, selector.xpath(\".//table//td[@class='al']/a/@href\").extract_first())\n",
    "res"
   ]
  },
  {
   "cell_type": "code",
   "execution_count": 6,
   "metadata": {},
   "outputs": [],
   "source": [
    "df = pd.read_html(r.text,index_col=0,header=0)[0]"
   ]
  },
  {
   "cell_type": "code",
   "execution_count": 39,
   "metadata": {},
   "outputs": [],
   "source": [
    "import aiohttp\n",
    "import asyncio\n",
    "import pandas as pd\n",
    "from scrapy import Selector"
   ]
  },
  {
   "cell_type": "code",
   "execution_count": null,
   "metadata": {},
   "outputs": [],
   "source": [
    "session = None\n",
    "\n",
    "async def fetch(session, url):\n",
    "    async with session.get(url) as response:\n",
    "        return await response.text(encoding='utf-8')\n",
    "\n",
    "\n",
    "async def parser(html):\n",
    "    \"\"\"\n",
    "    解析一级页面链接\n",
    "    \"\"\"\n",
    "    global session\n",
    "    selector = Selector(html)\n",
    "    parser_string = \".//table//td[@class='al']/a/@href\"\n",
    "    raw_urls = selector.xpath(parser_string).extract()\n",
    "    print(len(raw_urls))\n",
    "    for raw_url in raw_urls:\n",
    "        html = await fetch(session, raw_url)\n",
    "        await parse_raw_url(html)\n",
    "        \n",
    "\n",
    "async def parse_raw_url(html):\n",
    "    \"\"\"\n",
    "    解析二级而页面\n",
    "    \"\"\"\n",
    "    \n",
    "        \n",
    "\n",
    "\n",
    "async def downloader(url):\n",
    "    async with aiohttp.ClientSession() as session:\n",
    "        html = await fetch(session, url)\n",
    "\n"
   ]
  },
  {
   "cell_type": "code",
   "execution_count": null,
   "metadata": {},
   "outputs": [],
   "source": []
  },
  {
   "cell_type": "code",
   "execution_count": 27,
   "metadata": {},
   "outputs": [],
   "source": [
    "rr = requests.get(\"https://so.toutiao.com/search?keyword=%23%E5%A4%96%E4%BA%A4%E9%83%A8%E5%B7%B2%E5%B0%B1%E4%BD%A9%E6%B4%9B%E8%A5%BF%E8%AE%BF%E5%8F%B0%E6%8F%90%E5%87%BA%E4%B8%A5%E6%AD%A3%E4%BA%A4%E6%B6%89%23\", headers=headers)"
   ]
  },
  {
   "cell_type": "code",
   "execution_count": 28,
   "metadata": {},
   "outputs": [],
   "source": [
    "selector2 = Selector(text=rr.text)"
   ]
  },
  {
   "cell_type": "code",
   "execution_count": 33,
   "metadata": {},
   "outputs": [],
   "source": [
    "detail_url = selector2.xpath('//a[@class=\"l-view block l-image block\"]/@href').extract()"
   ]
  },
  {
   "cell_type": "code",
   "execution_count": 37,
   "metadata": {},
   "outputs": [
    {
     "data": {
      "text/plain": [
       "'https://so.toutiao.com/search/jump?aid=1455&jtoken=af2812cf6cbd327495afcc8cf69e5390819e14f77a090ff6466e24a3d858846b70f50be1984a03c38fbbcc175308383bde5abef6d6af1b49d56dbae5edbef0c6&url=https%3A%2F%2Ftoutiao.com%2Fgroup%2F7083766736926966279%2F%3Fchannel%3D%26in_ogs%3D%26in_tfs%3D%26original_source%3D%26source%3Dsearch_tab%26traffic_source%3D%26utm_medium%3Dwap_search%26utm_source%3D%26enter_keyword%3D%2523%25E5%25A4%2596%25E4%25BA%25A4%25E9%2583%25A8%25E5%25B7%25B2%25E5%25B0%25B1%25E4%25BD%25A9%25E6%25B4%259B%25E8%25A5%25BF%25E8%25AE%25BF%25E5%258F%25B0%25E6%258F%2590%25E5%2587%25BA%25E4%25B8%25A5%25E6%25AD%25A3%25E4%25BA%25A4%25E6%25B6%2589%2523&log=%7B%22disableV1%22%3Atrue%2C%22category_name%22%3A%22__search__%22%2C%22enter_from%22%3A%22click_search%22%2C%22is_valid%22%3A1%2C%22log_pb%22%3A%7B%22impr_id%22%3A%22202204071935340101501320961D5F9C3F%22%2C%22is_incognito%22%3A0%7D%2C%22search_id%22%3A%22202204071935340101501320961D5F9C3F%22%2C%22query%22%3A%22%23%E5%A4%96%E4%BA%A4%E9%83%A8%E5%B7%B2%E5%B0%B1%E4%BD%A9%E6%B4%9B%E8%A5%BF%E8%AE%BF%E5%8F%B0%E6%8F%90%E5%87%BA%E4%B8%A5%E6%AD%A3%E4%BA%A4%E6%B6%89%23%22%2C%22source%22%3A%22client%22%2C%22search_subtab_name%22%3A%22synthesis%22%2C%22query_id%22%3A%227082899904452302117%22%2C%22rank%22%3A0%2C%22index%22%3A0%2C%22cell_type%22%3A26%2C%22result_type%22%3A%22activity_hot_header%22%2C%22search_result_id%22%3A%223937480118%22%2C%22search_position%22%3A%22%22%2C%22result_level%22%3A0%2C%22is_incognito%22%3A0%2C%22qrec_impr_id%22%3A%22%22%2C%22filter_vendor%22%3A%22%22%2C%22filter_period%22%3A%22%22%2C%22from_search_id%22%3Anull%2C%22common_params%22%3A%7B%7D%2C%22from_group_id%22%3A%22%22%2C%22enter_group_id%22%3A%22%22%2C%22host%22%3A%22so.toutiao.com%22%2C%22show_rank%22%3A0%2C%22web_type%22%3A%22search_result%22%2C%22is_multi_container%22%3A0%2C%22query_type%22%3A%22AladdinRpcQueryType%22%2C%22in_ogs%22%3A%22%22%2C%22in_tfs%22%3A%22%22%2C%22traffic_source%22%3A%22%22%2C%22original_source%22%3A%22%22%2C%22event%22%3A%22search_result_click%22%7D&t_urls=%5B%5D'"
      ]
     },
     "execution_count": 37,
     "metadata": {},
     "output_type": "execute_result"
    }
   ],
   "source": [
    "res2 = urljoin(\"https://so.toutiao.com/\", detail_url[0])\n",
    "res2"
   ]
  },
  {
   "cell_type": "code",
   "execution_count": 7,
   "metadata": {},
   "outputs": [
    {
     "data": {
      "text/html": [
       "<div>\n",
       "<style scoped>\n",
       "    .dataframe tbody tr th:only-of-type {\n",
       "        vertical-align: middle;\n",
       "    }\n",
       "\n",
       "    .dataframe tbody tr th {\n",
       "        vertical-align: top;\n",
       "    }\n",
       "\n",
       "    .dataframe thead th {\n",
       "        text-align: right;\n",
       "    }\n",
       "</style>\n",
       "<table border=\"1\" class=\"dataframe\">\n",
       "  <thead>\n",
       "    <tr style=\"text-align: right;\">\n",
       "      <th></th>\n",
       "      <th>外交部已就佩洛西访台提出严正交涉</th>\n",
       "      <th>1332.4万</th>\n",
       "      <th></th>\n",
       "    </tr>\n",
       "    <tr>\n",
       "      <th>1.</th>\n",
       "      <th></th>\n",
       "      <th></th>\n",
       "      <th></th>\n",
       "    </tr>\n",
       "  </thead>\n",
       "  <tbody>\n",
       "    <tr>\n",
       "      <th>2.0</th>\n",
       "      <td>如何看待刘强东卸任京东CEO</td>\n",
       "      <td>987.1万</td>\n",
       "      <td></td>\n",
       "    </tr>\n",
       "    <tr>\n",
       "      <th>3.0</th>\n",
       "      <td>上海一精神卫生中心现疫情 院长被免</td>\n",
       "      <td>1090.9万</td>\n",
       "      <td></td>\n",
       "    </tr>\n",
       "    <tr>\n",
       "      <th>4.0</th>\n",
       "      <td>胡锡进谈佩洛西或窜访台湾：挑衅</td>\n",
       "      <td>1205.6万</td>\n",
       "      <td></td>\n",
       "    </tr>\n",
       "    <tr>\n",
       "      <th>5.0</th>\n",
       "      <td>美方宣布制裁普京的两个成年女儿</td>\n",
       "      <td>808.1万</td>\n",
       "      <td></td>\n",
       "    </tr>\n",
       "    <tr>\n",
       "      <th>6.0</th>\n",
       "      <td>京东新任CEO徐雷是什么来历</td>\n",
       "      <td>893.1万</td>\n",
       "      <td></td>\n",
       "    </tr>\n",
       "    <tr>\n",
       "      <th>7.0</th>\n",
       "      <td>蜜雪冰城门店违法使用童工被罚</td>\n",
       "      <td>731.2万</td>\n",
       "      <td></td>\n",
       "    </tr>\n",
       "    <tr>\n",
       "      <th>8.0</th>\n",
       "      <td>俄罗斯首次以卢布而非美元偿还外债</td>\n",
       "      <td>661.6万</td>\n",
       "      <td></td>\n",
       "    </tr>\n",
       "    <tr>\n",
       "      <th>9.0</th>\n",
       "      <td>网友围观全国首个“宠物方舱”</td>\n",
       "      <td>598.7万</td>\n",
       "      <td></td>\n",
       "    </tr>\n",
       "    <tr>\n",
       "      <th>10.0</th>\n",
       "      <td>上海28人坐集装箱偷渡到江苏？假的</td>\n",
       "      <td>541.7万</td>\n",
       "      <td></td>\n",
       "    </tr>\n",
       "    <tr>\n",
       "      <th>11.0</th>\n",
       "      <td>沈阳一越野车撞人群：疑3人当场身亡</td>\n",
       "      <td>490.2万</td>\n",
       "      <td></td>\n",
       "    </tr>\n",
       "    <tr>\n",
       "      <th>12.0</th>\n",
       "      <td>台媒炒作佩洛西窜访台湾遭网友讽刺</td>\n",
       "      <td>443.5万</td>\n",
       "      <td></td>\n",
       "    </tr>\n",
       "    <tr>\n",
       "      <th>13.0</th>\n",
       "      <td>俄军撤围基辅如何影响俄乌局势</td>\n",
       "      <td>401.3万</td>\n",
       "      <td></td>\n",
       "    </tr>\n",
       "    <tr>\n",
       "      <th>14.0</th>\n",
       "      <td>交警回应保时捷恶意别停孕妇车辆</td>\n",
       "      <td>363.1万</td>\n",
       "      <td></td>\n",
       "    </tr>\n",
       "    <tr>\n",
       "      <th>15.0</th>\n",
       "      <td>上海检验科医生的手</td>\n",
       "      <td>328.6万</td>\n",
       "      <td></td>\n",
       "    </tr>\n",
       "    <tr>\n",
       "      <th>16.0</th>\n",
       "      <td>花臂男插队核酸打砸检测点被拘</td>\n",
       "      <td>297.3万</td>\n",
       "      <td></td>\n",
       "    </tr>\n",
       "    <tr>\n",
       "      <th>17.0</th>\n",
       "      <td>上海工人两天没吃饭 居民送一袋粮食</td>\n",
       "      <td>269.0万</td>\n",
       "      <td></td>\n",
       "    </tr>\n",
       "    <tr>\n",
       "      <th>18.0</th>\n",
       "      <td>风投女王徐新回应隔离期群里求购面包</td>\n",
       "      <td>243.4万</td>\n",
       "      <td></td>\n",
       "    </tr>\n",
       "    <tr>\n",
       "      <th>19.0</th>\n",
       "      <td>上海现有本土感染者超10万例</td>\n",
       "      <td>220.2万</td>\n",
       "      <td></td>\n",
       "    </tr>\n",
       "    <tr>\n",
       "      <th>20.0</th>\n",
       "      <td>2岁女孩隔离后梦中喊“阿姨抱抱”</td>\n",
       "      <td>199.3万</td>\n",
       "      <td></td>\n",
       "    </tr>\n",
       "    <tr>\n",
       "      <th>21.0</th>\n",
       "      <td>长春方舱男孩考上武大了</td>\n",
       "      <td>180.3万</td>\n",
       "      <td></td>\n",
       "    </tr>\n",
       "    <tr>\n",
       "      <th>22.0</th>\n",
       "      <td>国台办回应佩洛西或窜访台湾：将回击</td>\n",
       "      <td>163.2万</td>\n",
       "      <td></td>\n",
       "    </tr>\n",
       "    <tr>\n",
       "      <th>23.0</th>\n",
       "      <td>俄称希望通过谈判结束特别军事行动</td>\n",
       "      <td>147.6万</td>\n",
       "      <td></td>\n",
       "    </tr>\n",
       "    <tr>\n",
       "      <th>24.0</th>\n",
       "      <td>上海民警催泪劝说下楼老人回家</td>\n",
       "      <td>133.6万</td>\n",
       "      <td></td>\n",
       "    </tr>\n",
       "    <tr>\n",
       "      <th>25.0</th>\n",
       "      <td>母女隐瞒行程从沪来杭要面临何后果</td>\n",
       "      <td>120.9万</td>\n",
       "      <td></td>\n",
       "    </tr>\n",
       "    <tr>\n",
       "      <th>26.0</th>\n",
       "      <td>奶茶公司澄清关晓彤未参与经营</td>\n",
       "      <td>109.4万</td>\n",
       "      <td></td>\n",
       "    </tr>\n",
       "    <tr>\n",
       "      <th>27.0</th>\n",
       "      <td>多家银行回应能否因疫情推迟还房贷</td>\n",
       "      <td>99.0万</td>\n",
       "      <td></td>\n",
       "    </tr>\n",
       "    <tr>\n",
       "      <th>28.0</th>\n",
       "      <td>青海省委常委李杰翔被查</td>\n",
       "      <td>81.0万</td>\n",
       "      <td></td>\n",
       "    </tr>\n",
       "    <tr>\n",
       "      <th>29.0</th>\n",
       "      <td>大学生连续4天翻墙出校后感染被立案</td>\n",
       "      <td>89.5万</td>\n",
       "      <td></td>\n",
       "    </tr>\n",
       "    <tr>\n",
       "      <th>30.0</th>\n",
       "      <td>国防部回应美对台军售：提出严正交涉</td>\n",
       "      <td>73.3万</td>\n",
       "      <td></td>\n",
       "    </tr>\n",
       "    <tr>\n",
       "      <th>31.0</th>\n",
       "      <td>浙江接收1.2万名上海密接次密接人员</td>\n",
       "      <td>66.3万</td>\n",
       "      <td></td>\n",
       "    </tr>\n",
       "    <tr>\n",
       "      <th>32.0</th>\n",
       "      <td>村民疫情期间出门喂牛入狱？警方回应</td>\n",
       "      <td>60.0万</td>\n",
       "      <td></td>\n",
       "    </tr>\n",
       "    <tr>\n",
       "      <th>33.0</th>\n",
       "      <td>德总理：价格低廉的全球化阶段结束</td>\n",
       "      <td>54.3万</td>\n",
       "      <td></td>\n",
       "    </tr>\n",
       "    <tr>\n",
       "      <th>34.0</th>\n",
       "      <td>波兰总理质疑马克龙与普京通话成果</td>\n",
       "      <td>49.1万</td>\n",
       "      <td></td>\n",
       "    </tr>\n",
       "    <tr>\n",
       "      <th>35.0</th>\n",
       "      <td>美国禽流感疫情爆发对中国影响多大</td>\n",
       "      <td>44.5万</td>\n",
       "      <td></td>\n",
       "    </tr>\n",
       "    <tr>\n",
       "      <th>36.0</th>\n",
       "      <td>上海大白终极版喊话做核酸</td>\n",
       "      <td>40.2万</td>\n",
       "      <td></td>\n",
       "    </tr>\n",
       "    <tr>\n",
       "      <th>37.0</th>\n",
       "      <td>多架次运-20降落上海支援防疫工作</td>\n",
       "      <td>36.4万</td>\n",
       "      <td></td>\n",
       "    </tr>\n",
       "    <tr>\n",
       "      <th>38.0</th>\n",
       "      <td>拜登“炫耀”西方对俄制裁</td>\n",
       "      <td>32.9万</td>\n",
       "      <td></td>\n",
       "    </tr>\n",
       "    <tr>\n",
       "      <th>39.0</th>\n",
       "      <td>因疫情延还房贷 法律上可行吗</td>\n",
       "      <td>29.8万</td>\n",
       "      <td></td>\n",
       "    </tr>\n",
       "    <tr>\n",
       "      <th>40.0</th>\n",
       "      <td>新农合涨价还要不要交</td>\n",
       "      <td>27.0万</td>\n",
       "      <td></td>\n",
       "    </tr>\n",
       "    <tr>\n",
       "      <th>41.0</th>\n",
       "      <td>顿涅茨克称马里乌波尔中部战斗结束</td>\n",
       "      <td>24.4万</td>\n",
       "      <td></td>\n",
       "    </tr>\n",
       "    <tr>\n",
       "      <th>42.0</th>\n",
       "      <td>《山河月明》开播口碑</td>\n",
       "      <td>22.1万</td>\n",
       "      <td></td>\n",
       "    </tr>\n",
       "    <tr>\n",
       "      <th>43.0</th>\n",
       "      <td>直击吉林市“清零”攻坚</td>\n",
       "      <td>20.0万</td>\n",
       "      <td></td>\n",
       "    </tr>\n",
       "    <tr>\n",
       "      <th>44.0</th>\n",
       "      <td>上海方舱医院大白晕倒患者抱起送医</td>\n",
       "      <td>18.1万</td>\n",
       "      <td></td>\n",
       "    </tr>\n",
       "    <tr>\n",
       "      <th>45.0</th>\n",
       "      <td>上海回应“生活物资难送到家”</td>\n",
       "      <td>16.4万</td>\n",
       "      <td></td>\n",
       "    </tr>\n",
       "    <tr>\n",
       "      <th>46.0</th>\n",
       "      <td>浙江海宁零号病例被立案侦查</td>\n",
       "      <td>14.8万</td>\n",
       "      <td></td>\n",
       "    </tr>\n",
       "    <tr>\n",
       "      <th>47.0</th>\n",
       "      <td>马克龙大选对手勒庞支持率上升</td>\n",
       "      <td>13.4万</td>\n",
       "      <td></td>\n",
       "    </tr>\n",
       "    <tr>\n",
       "      <th>48.0</th>\n",
       "      <td>男子赖床5小时被妻子缝在沙发上</td>\n",
       "      <td>12.1万</td>\n",
       "      <td></td>\n",
       "    </tr>\n",
       "    <tr>\n",
       "      <th>49.0</th>\n",
       "      <td>疫情下哪些职业成年轻人最爱</td>\n",
       "      <td>11.0万</td>\n",
       "      <td></td>\n",
       "    </tr>\n",
       "    <tr>\n",
       "      <th>50.0</th>\n",
       "      <td>独立隔离2岁女童妈妈发声</td>\n",
       "      <td>9.9万</td>\n",
       "      <td></td>\n",
       "    </tr>\n",
       "  </tbody>\n",
       "</table>\n",
       "</div>"
      ],
      "text/plain": [
       "        外交部已就佩洛西访台提出严正交涉  1332.4万  \n",
       "1.                                  \n",
       "2.0       如何看待刘强东卸任京东CEO   987.1万  \n",
       "3.0    上海一精神卫生中心现疫情 院长被免  1090.9万  \n",
       "4.0      胡锡进谈佩洛西或窜访台湾：挑衅  1205.6万  \n",
       "5.0      美方宣布制裁普京的两个成年女儿   808.1万  \n",
       "6.0       京东新任CEO徐雷是什么来历   893.1万  \n",
       "7.0       蜜雪冰城门店违法使用童工被罚   731.2万  \n",
       "8.0     俄罗斯首次以卢布而非美元偿还外债   661.6万  \n",
       "9.0       网友围观全国首个“宠物方舱”   598.7万  \n",
       "10.0   上海28人坐集装箱偷渡到江苏？假的   541.7万  \n",
       "11.0   沈阳一越野车撞人群：疑3人当场身亡   490.2万  \n",
       "12.0    台媒炒作佩洛西窜访台湾遭网友讽刺   443.5万  \n",
       "13.0      俄军撤围基辅如何影响俄乌局势   401.3万  \n",
       "14.0     交警回应保时捷恶意别停孕妇车辆   363.1万  \n",
       "15.0           上海检验科医生的手   328.6万  \n",
       "16.0      花臂男插队核酸打砸检测点被拘   297.3万  \n",
       "17.0   上海工人两天没吃饭 居民送一袋粮食   269.0万  \n",
       "18.0   风投女王徐新回应隔离期群里求购面包   243.4万  \n",
       "19.0      上海现有本土感染者超10万例   220.2万  \n",
       "20.0    2岁女孩隔离后梦中喊“阿姨抱抱”   199.3万  \n",
       "21.0         长春方舱男孩考上武大了   180.3万  \n",
       "22.0   国台办回应佩洛西或窜访台湾：将回击   163.2万  \n",
       "23.0    俄称希望通过谈判结束特别军事行动   147.6万  \n",
       "24.0      上海民警催泪劝说下楼老人回家   133.6万  \n",
       "25.0    母女隐瞒行程从沪来杭要面临何后果   120.9万  \n",
       "26.0      奶茶公司澄清关晓彤未参与经营   109.4万  \n",
       "27.0    多家银行回应能否因疫情推迟还房贷    99.0万  \n",
       "28.0         青海省委常委李杰翔被查    81.0万  \n",
       "29.0   大学生连续4天翻墙出校后感染被立案    89.5万  \n",
       "30.0   国防部回应美对台军售：提出严正交涉    73.3万  \n",
       "31.0  浙江接收1.2万名上海密接次密接人员    66.3万  \n",
       "32.0   村民疫情期间出门喂牛入狱？警方回应    60.0万  \n",
       "33.0    德总理：价格低廉的全球化阶段结束    54.3万  \n",
       "34.0    波兰总理质疑马克龙与普京通话成果    49.1万  \n",
       "35.0    美国禽流感疫情爆发对中国影响多大    44.5万  \n",
       "36.0        上海大白终极版喊话做核酸    40.2万  \n",
       "37.0   多架次运-20降落上海支援防疫工作    36.4万  \n",
       "38.0        拜登“炫耀”西方对俄制裁    32.9万  \n",
       "39.0      因疫情延还房贷 法律上可行吗    29.8万  \n",
       "40.0          新农合涨价还要不要交    27.0万  \n",
       "41.0    顿涅茨克称马里乌波尔中部战斗结束    24.4万  \n",
       "42.0          《山河月明》开播口碑    22.1万  \n",
       "43.0         直击吉林市“清零”攻坚    20.0万  \n",
       "44.0    上海方舱医院大白晕倒患者抱起送医    18.1万  \n",
       "45.0      上海回应“生活物资难送到家”    16.4万  \n",
       "46.0       浙江海宁零号病例被立案侦查    14.8万  \n",
       "47.0      马克龙大选对手勒庞支持率上升    13.4万  \n",
       "48.0     男子赖床5小时被妻子缝在沙发上    12.1万  \n",
       "49.0       疫情下哪些职业成年轻人最爱    11.0万  \n",
       "50.0        独立隔离2岁女童妈妈发声     9.9万  "
      ]
     },
     "execution_count": 7,
     "metadata": {},
     "output_type": "execute_result"
    }
   ],
   "source": [
    "df"
   ]
  },
  {
   "cell_type": "code",
   "execution_count": 1,
   "metadata": {},
   "outputs": [],
   "source": [
    "import time\n",
    "from datetime import datetime"
   ]
  },
  {
   "cell_type": "code",
   "execution_count": null,
   "metadata": {},
   "outputs": [],
   "source": []
  },
  {
   "cell_type": "code",
   "execution_count": 15,
   "metadata": {},
   "outputs": [
    {
     "data": {
      "text/plain": [
       "'2022-04-06 13:20'"
      ]
     },
     "execution_count": 15,
     "metadata": {},
     "output_type": "execute_result"
    }
   ],
   "source": [
    "format_time = datetime.now().strftime(\"%Y-%m-%d %H:%M\")\n",
    "format_time"
   ]
  },
  {
   "cell_type": "code",
   "execution_count": 18,
   "metadata": {},
   "outputs": [],
   "source": [
    "dt = datetime.strptime(format_time, \"%Y-%m-%d %H:%M\")"
   ]
  },
  {
   "cell_type": "code",
   "execution_count": 19,
   "metadata": {},
   "outputs": [
    {
     "data": {
      "text/plain": [
       "1649222400.0"
      ]
     },
     "execution_count": 19,
     "metadata": {},
     "output_type": "execute_result"
    }
   ],
   "source": [
    "time.mktime(dt.timetuple())"
   ]
  },
  {
   "cell_type": "code",
   "execution_count": 20,
   "metadata": {},
   "outputs": [],
   "source": [
    "weibohot_url = 'https://s.weibo.com/top/summary?cate=realtimehot'\n",
    "baidu_url = 'http://top.baidu.com/buzz?b=1&fr=topnews'\n",
    "zhihu_url = 'https://www.zhihu.com/billboard'\n",
    "toutiao_url = 'https://tophub.today/n/x9ozB4KoXb'\n",
    "weixin_url = 'https://tophub.today/n/WnBe01o371'\n",
    "tianmao_url = 'https://tophub.today/n/yjvQDpjobg'\n",
    "douyin_url = 'https://tophub.today/n/DpQvNABoNE'"
   ]
  },
  {
   "cell_type": "code",
   "execution_count": 27,
   "metadata": {},
   "outputs": [],
   "source": [
    "import pandas as pd\n",
    "import requests"
   ]
  },
  {
   "cell_type": "code",
   "execution_count": 25,
   "metadata": {},
   "outputs": [],
   "source": [
    "headers = {\n",
    "    \"user-agent\": \"Mozilla/5.0 (Windows NT 10.0; WOW64) AppleWebKit/537.36 (KHTML, like Gecko) Chrome/68.0.3440.106 Safari/537.36\",\n",
    "}"
   ]
  },
  {
   "cell_type": "code",
   "execution_count": 28,
   "metadata": {},
   "outputs": [],
   "source": [
    "r = requests.get(weixin_url, headers=headers)"
   ]
  },
  {
   "cell_type": "code",
   "execution_count": 32,
   "metadata": {},
   "outputs": [],
   "source": [
    "df_list = pd.read_html(r.text)"
   ]
  },
  {
   "cell_type": "code",
   "execution_count": 34,
   "metadata": {},
   "outputs": [
    {
     "data": {
      "text/html": [
       "<div>\n",
       "<style scoped>\n",
       "    .dataframe tbody tr th:only-of-type {\n",
       "        vertical-align: middle;\n",
       "    }\n",
       "\n",
       "    .dataframe tbody tr th {\n",
       "        vertical-align: top;\n",
       "    }\n",
       "\n",
       "    .dataframe thead th {\n",
       "        text-align: right;\n",
       "    }\n",
       "</style>\n",
       "<table border=\"1\" class=\"dataframe\">\n",
       "  <thead>\n",
       "    <tr style=\"text-align: right;\">\n",
       "      <th></th>\n",
       "      <th>0</th>\n",
       "      <th>1</th>\n",
       "      <th>2</th>\n",
       "      <th>3</th>\n",
       "    </tr>\n",
       "  </thead>\n",
       "  <tbody>\n",
       "    <tr>\n",
       "      <th>0</th>\n",
       "      <td>2022-04-06</td>\n",
       "      <td>「人民日报」【夜读】改变自己，从管理情绪开始</td>\n",
       "      <td>10W+ 阅读 , 5693 在看</td>\n",
       "      <td></td>\n",
       "    </tr>\n",
       "    <tr>\n",
       "      <th>1</th>\n",
       "      <td>2022-04-06</td>\n",
       "      <td>「洞见」中年以后，请过减负的生活</td>\n",
       "      <td>10W+ 阅读 , 5690 在看</td>\n",
       "      <td></td>\n",
       "    </tr>\n",
       "    <tr>\n",
       "      <th>2</th>\n",
       "      <td>2022-04-06</td>\n",
       "      <td>「Cosmetic美妆大赏」别再摆烂了！超全防晒攻略送上门你还不要？！</td>\n",
       "      <td>10W+ 阅读 , 4309 在看</td>\n",
       "      <td></td>\n",
       "    </tr>\n",
       "    <tr>\n",
       "      <th>3</th>\n",
       "      <td>2022-04-06</td>\n",
       "      <td>「人民日报」中方：美国不能成为例外！</td>\n",
       "      <td>10W+ 阅读 , 3716 在看</td>\n",
       "      <td></td>\n",
       "    </tr>\n",
       "    <tr>\n",
       "      <th>4</th>\n",
       "      <td>2022-04-06</td>\n",
       "      <td>「新华社」夜读 | 不要错过后，才明白来不及</td>\n",
       "      <td>10W+ 阅读 , 3394 在看</td>\n",
       "      <td></td>\n",
       "    </tr>\n",
       "    <tr>\n",
       "      <th>...</th>\n",
       "      <td>...</td>\n",
       "      <td>...</td>\n",
       "      <td>...</td>\n",
       "      <td>...</td>\n",
       "    </tr>\n",
       "    <tr>\n",
       "      <th>95</th>\n",
       "      <td>2022-04-03</td>\n",
       "      <td>「人民日报」最闪亮的坐标∶我想你</td>\n",
       "      <td>10W+ 阅读 , 6860 在看</td>\n",
       "      <td></td>\n",
       "    </tr>\n",
       "    <tr>\n",
       "      <th>96</th>\n",
       "      <td>2022-04-03</td>\n",
       "      <td>「洞见」比身体自律更重要的，是思维自律</td>\n",
       "      <td>10W+ 阅读 , 5966 在看</td>\n",
       "      <td></td>\n",
       "    </tr>\n",
       "    <tr>\n",
       "      <th>97</th>\n",
       "      <td>2022-04-03</td>\n",
       "      <td>「成都37度」上海疾控中心的这通电话，揭开了一点疫情的真相</td>\n",
       "      <td>10W+ 阅读 , 5670 在看</td>\n",
       "      <td></td>\n",
       "    </tr>\n",
       "    <tr>\n",
       "      <th>98</th>\n",
       "      <td>2022-04-03</td>\n",
       "      <td>「十点读书」MU5735航班上，一个39岁的单亲妈妈消失在空中</td>\n",
       "      <td>10W+ 阅读 , 5277 在看</td>\n",
       "      <td></td>\n",
       "    </tr>\n",
       "    <tr>\n",
       "      <th>99</th>\n",
       "      <td>2022-04-03</td>\n",
       "      <td>「丁香医生」疫情之下，不要把母亲和孩子分开</td>\n",
       "      <td>10W+ 阅读 , 4232 在看</td>\n",
       "      <td></td>\n",
       "    </tr>\n",
       "  </tbody>\n",
       "</table>\n",
       "<p>100 rows × 4 columns</p>\n",
       "</div>"
      ],
      "text/plain": [
       "             0                                    1                  2  3\n",
       "0   2022-04-06               「人民日报」【夜读】改变自己，从管理情绪开始  10W+ 阅读 , 5693 在看  \n",
       "1   2022-04-06                     「洞见」中年以后，请过减负的生活  10W+ 阅读 , 5690 在看  \n",
       "2   2022-04-06  「Cosmetic美妆大赏」别再摆烂了！超全防晒攻略送上门你还不要？！  10W+ 阅读 , 4309 在看  \n",
       "3   2022-04-06                   「人民日报」中方：美国不能成为例外！  10W+ 阅读 , 3716 在看  \n",
       "4   2022-04-06               「新华社」夜读 | 不要错过后，才明白来不及  10W+ 阅读 , 3394 在看  \n",
       "..         ...                                  ...                ... ..\n",
       "95  2022-04-03                     「人民日报」最闪亮的坐标∶我想你  10W+ 阅读 , 6860 在看  \n",
       "96  2022-04-03                  「洞见」比身体自律更重要的，是思维自律  10W+ 阅读 , 5966 在看  \n",
       "97  2022-04-03        「成都37度」上海疾控中心的这通电话，揭开了一点疫情的真相  10W+ 阅读 , 5670 在看  \n",
       "98  2022-04-03      「十点读书」MU5735航班上，一个39岁的单亲妈妈消失在空中  10W+ 阅读 , 5277 在看  \n",
       "99  2022-04-03                「丁香医生」疫情之下，不要把母亲和孩子分开  10W+ 阅读 , 4232 在看  \n",
       "\n",
       "[100 rows x 4 columns]"
      ]
     },
     "execution_count": 34,
     "metadata": {},
     "output_type": "execute_result"
    }
   ],
   "source": [
    "df_list[1]"
   ]
  },
  {
   "cell_type": "code",
   "execution_count": null,
   "metadata": {},
   "outputs": [],
   "source": []
  }
 ],
 "metadata": {
  "interpreter": {
   "hash": "1baa965d5efe3ac65b79dfc60c0d706280b1da80fedb7760faf2759126c4f253"
  },
  "kernelspec": {
   "display_name": "Python 3.8.6 64-bit",
   "language": "python",
   "name": "python3"
  },
  "language_info": {
   "codemirror_mode": {
    "name": "ipython",
    "version": 3
   },
   "file_extension": ".py",
   "mimetype": "text/x-python",
   "name": "python",
   "nbconvert_exporter": "python",
   "pygments_lexer": "ipython3",
   "version": "3.8.6rc1"
  },
  "orig_nbformat": 2
 },
 "nbformat": 4,
 "nbformat_minor": 2
}
